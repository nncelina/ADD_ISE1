{
 "cells": [
  {
   "cell_type": "markdown",
   "id": "d8913d55-ea08-4e46-94df-f9f8ba8b96c8",
   "metadata": {},
   "source": [
    "<div style=\"background-color:#2E86C1; padding:15px; border-radius:10px\">\n",
    "    <h1 style=\"color:white; text-align:center;\"> PROJET D'ANALYSE DE DONNEES </h1>\n",
    "    <h2 style=\"color:white; text-align:center;\"> Analyse discriminante de la pauvreté monétaire des ménages sénégalais en 2022 </h2>\n",
    "</div>"
   ]
  },
  {
   "cell_type": "markdown",
   "id": "7c4858ca-7527-4b56-b1fa-5a4d4e9d39c1",
   "metadata": {},
   "source": [
    "<table style=\"width:100%;\">\n",
    "  <tr>\n",
    "    <td style=\"text-align: left;\">\n",
    "      <img src=\"LOGO2.jpg\" width=\"100px\" alt=\"Image gauche\">\n",
    "    </td>\n",
    "    <td style=\"text-align: right;\">\n",
    "      <img src=\"LOGO1.jpg\" width=\"100px\" alt=\"Image droite\">\n",
    "    </td>\n",
    "  </tr>\n",
    "</table>\n"
   ]
  },
  {
   "cell_type": "markdown",
   "id": "e9b893ef-ad33-47ff-a859-548c2f76b71f",
   "metadata": {},
   "source": [
    "<div style=\"background-color:#40E0D0; padding:15px; border-radius:10px\">\n",
    "    <table style=\"width: 100%; border-collapse: collapse; margin: 0 auto;\">\n",
    "        <tr>\n",
    "            <th style=\"padding: 15px; background-color: #40E0D0; text-align: left; font-size:15px;\">Rédigé par : </th>\n",
    "            <th style=\"padding: 15px; background-color: #40E0D0; text-align: right;font-size:15px;\">Sous la supervision de : </th>\n",
    "        </tr>\n",
    "        <tr>\n",
    "            <td style=\"padding: 15px; background-color: #40E0D0; text-align: left;\">\n",
    "                <p style=\"color:black; font-size:15px;\">     COULIBALY Khadidiatou</p>\n",
    "                <p style=\"color:black; font-size:15px;\">     DIENG Samba</p>\n",
    "                <p style=\"color:black; font-size:15px;\">     HABA Fromo Francis</p>\n",
    "                <p style=\"color:black; font-size:15px;\">     KAFANDO Judicaël Oscar</p>\n",
    "                <p style=\"color:black; font-size:15px;\">     NGUEMFOUO NGOUMTSA Célina</p>\n",
    "                <p style=\"color:black; font-size:15px;font-style: italic;\">     Elèves Ingénieurs Statisticiens économistes</p>\n",
    "            </td>\n",
    "            <td style=\" padding: 15px; background-color: #40E0D0; text-align: right;font-size:15px;\">Mme SARR Iphygénie\n",
    "                <p></p>\n",
    "                <p style=\"text-align: right;font-style: italic;\">     Ingénieure Statisticienne économiste</p>\n",
    "            </td>\n",
    "        </tr>\n",
    "    </table>\n",
    "</div>"
   ]
  },
  {
   "cell_type": "markdown",
   "id": "6af7c939-162c-4f08-8ec0-c02e366b7473",
   "metadata": {},
   "source": [
    "<div style=\"background-color:#87CEFB; padding:15px; border-radius:10px\">\n",
    "    <h5 style=\"color:black; text-align:center; font-size:20px;\"> ISE 1 <br><br>Année académique 2024/2025 </h5>\n",
    "</div>"
   ]
  },
  {
   "cell_type": "markdown",
   "id": "de8114bb-bd84-455b-ad1b-a198dc9de4aa",
   "metadata": {},
   "source": [
    "<div style=\"background-color:#87CEFA; padding:15px; border-radius:10px\">\n",
    "    <h5 style=\"color:white; text-align:center; font-size:24px;\"> Préliminaires </h5>\n",
    "</div>"
   ]
  },
  {
   "cell_type": "markdown",
   "id": "afca3c15-dd08-4dec-8335-e7f1d63e4dc6",
   "metadata": {},
   "source": [
    "<h6 style=\"text-align:center; font-size:20px;\"> Librairies </h6>"
   ]
  },
  {
   "cell_type": "code",
   "execution_count": 43,
   "id": "ee91c34e-cd9b-4530-b7a6-1ddd093d9424",
   "metadata": {},
   "outputs": [],
   "source": [
    "suppressMessages(suppressWarnings({\n",
    "library(readxl)       # Permet d'importer les données\n",
    "library(tidyverse)    # Permet de manipuler les matrices\n",
    "library(FactoMineR)   # Permet de faire l'analyse factorielle\n",
    "library(factoextra)   # Permet de les représentations de l'Analyse factorielle\n",
    "library(gplots)       # Permet une représentation graphique du tableau de contingence\n",
    "library(corrplot)\n",
    "library(dplyr)\n",
    "library(sampling)\n",
    "library(kableExtra)\n",
    "library(labelled)\n",
    "library(klaR)\n",
    "library(psych)\n",
    "library(MASS)\n",
    "library(devtools)\n",
    "library(caret)\n",
    "library(GGally)\n",
    "}))"
   ]
  },
  {
   "cell_type": "markdown",
   "id": "bef05c00-ed0c-41af-ad93-df30d6b3b944",
   "metadata": {},
   "source": [
    "<h6 style=\"text-align:center; font-size:20px;\"> Importation des données </h6>"
   ]
  },
  {
   "cell_type": "code",
   "execution_count": 20,
   "id": "4bfb2d76-599d-4c77-90eb-f217d2b28eba",
   "metadata": {},
   "outputs": [],
   "source": [
    "Data_MCA <- haven::read_dta(\"Base_finale.dta\") %>% to_factor()"
   ]
  },
  {
   "cell_type": "code",
   "execution_count": 22,
   "id": "c25eb4ac-c079-4b6b-8ace-e6f9a603d743",
   "metadata": {},
   "outputs": [
    {
     "data": {
      "text/html": [
       "<table class=\"dataframe\">\n",
       "<caption>A data.frame: 30 × 3</caption>\n",
       "<thead>\n",
       "\t<tr><th scope=col>Variable</th><th scope=col>description</th><th scope=col>Valeurs</th></tr>\n",
       "\t<tr><th scope=col>&lt;chr&gt;</th><th scope=col>&lt;chr&gt;</th><th scope=col>&lt;chr&gt;</th></tr>\n",
       "</thead>\n",
       "<tbody>\n",
       "\t<tr><td>hhid                   </td><td>                                                                                </td><td></td></tr>\n",
       "\t<tr><td>zae                    </td><td>Zone agroecologique                                                             </td><td></td></tr>\n",
       "\t<tr><td>region                 </td><td>Region residence                                                                </td><td></td></tr>\n",
       "\t<tr><td>milieu                 </td><td>Milieu residence                                                                </td><td></td></tr>\n",
       "\t<tr><td>hhweight               </td><td>Ponderation menage                                                              </td><td></td></tr>\n",
       "\t<tr><td>hhsize                 </td><td>Taille menage                                                                   </td><td></td></tr>\n",
       "\t<tr><td>hgender                </td><td>Genre du CM                                                                     </td><td></td></tr>\n",
       "\t<tr><td>hage                   </td><td>Age du CM                                                                       </td><td></td></tr>\n",
       "\t<tr><td>hmstat                 </td><td>Situation famille du CM                                                         </td><td></td></tr>\n",
       "\t<tr><td>heduc                  </td><td>Education du CM                                                                 </td><td></td></tr>\n",
       "\t<tr><td>hsectins               </td><td>Secteur instit. du CM                                                           </td><td></td></tr>\n",
       "\t<tr><td>hcsp                   </td><td>CSP du CM                                                                       </td><td></td></tr>\n",
       "\t<tr><td><span style=white-space:pre-wrap>poor                   </span></td><td><span style=white-space:pre-wrap>1 = ménage pauvre (pcexp &lt; zref); 0 = non-pauvre                                </span></td><td></td></tr>\n",
       "\t<tr><td>nb_equip               </td><td>                                                                                </td><td></td></tr>\n",
       "\t<tr><td>dep_parfum             </td><td>9D.03. Montant dépensé au cours des 3 derniers mois pour l'achat de produit ?   </td><td></td></tr>\n",
       "\t<tr><td>dep_chaus              </td><td>                                                                                </td><td></td></tr>\n",
       "\t<tr><td>assurance_maladie      </td><td>3.32.  [NOM] est-il couvert par une assurance maladie?                          </td><td></td></tr>\n",
       "\t<tr><td>insecu_alimentaire     </td><td>8A.01. 12 drnrs mois, inquiets de ne pas avoir suffisamment de nourriture ?     </td><td></td></tr>\n",
       "\t<tr><td>type_logement          </td><td>11.01. Type de logement actuel ?                                                </td><td></td></tr>\n",
       "\t<tr><td>materiau_murs_ext      </td><td>11.18. Quel est le principal matériau de construction des murs extérieurs ?     </td><td></td></tr>\n",
       "\t<tr><td>mateariau_sol          </td><td>11.20. Quel est le principal matériau de revêtement du sol du logement?         </td><td></td></tr>\n",
       "\t<tr><td>source_eau_saison_seche</td><td>11.26a. Prcipale source approvisionnement eau de boisson du MEN saison sèche?   </td><td></td></tr>\n",
       "\t<tr><td>source_eclairage       </td><td>11.37. Quelle est la principale source d'éclairage du logement?                 </td><td></td></tr>\n",
       "\t<tr><td>reseau_tel_mobile      </td><td>Connecte reseau telephonie mobile                                               </td><td></td></tr>\n",
       "\t<tr><td>connecte_a_internet    </td><td>11.45. Le ménage est-il connecté à internet (y compris la clé et le téléphone)? </td><td></td></tr>\n",
       "\t<tr><td><span style=white-space:pre-wrap>hsecteur               </span></td><td><span style=white-space:pre-wrap>Secteur d'&amp;activité du CM                                                       </span></td><td></td></tr>\n",
       "\t<tr><td>nb_etab_fin            </td><td>nb etab fin auquel CM affilie                                                   </td><td></td></tr>\n",
       "\t<tr><td>use_bois_ramasse       </td><td>usage de bois ramasse, combustible                                              </td><td></td></tr>\n",
       "\t<tr><td>use_charbon_bois       </td><td>usage de charbon de bois, combustible                                           </td><td></td></tr>\n",
       "\t<tr><td>prise_charge_medicale  </td><td>3.36.[NOM] bénéficie d'1e prise charge particulière (Mutuelle, consul. gratui.)?</td><td></td></tr>\n",
       "</tbody>\n",
       "</table>\n"
      ],
      "text/latex": [
       "A data.frame: 30 × 3\n",
       "\\begin{tabular}{lll}\n",
       " Variable & description & Valeurs\\\\\n",
       " <chr> & <chr> & <chr>\\\\\n",
       "\\hline\n",
       "\t hhid                    &                                                                                  & \\\\\n",
       "\t zae                     & Zone agroecologique                                                              & \\\\\n",
       "\t region                  & Region residence                                                                 & \\\\\n",
       "\t milieu                  & Milieu residence                                                                 & \\\\\n",
       "\t hhweight                & Ponderation menage                                                               & \\\\\n",
       "\t hhsize                  & Taille menage                                                                    & \\\\\n",
       "\t hgender                 & Genre du CM                                                                      & \\\\\n",
       "\t hage                    & Age du CM                                                                        & \\\\\n",
       "\t hmstat                  & Situation famille du CM                                                          & \\\\\n",
       "\t heduc                   & Education du CM                                                                  & \\\\\n",
       "\t hsectins                & Secteur instit. du CM                                                            & \\\\\n",
       "\t hcsp                    & CSP du CM                                                                        & \\\\\n",
       "\t poor                    & 1 = ménage pauvre (pcexp < zref); 0 = non-pauvre                                 & \\\\\n",
       "\t nb\\_equip                &                                                                                  & \\\\\n",
       "\t dep\\_parfum              & 9D.03. Montant dépensé au cours des 3 derniers mois pour l'achat de produit ?    & \\\\\n",
       "\t dep\\_chaus               &                                                                                  & \\\\\n",
       "\t assurance\\_maladie       & 3.32.  {[}NOM{]} est-il couvert par une assurance maladie?                           & \\\\\n",
       "\t insecu\\_alimentaire      & 8A.01. 12 drnrs mois, inquiets de ne pas avoir suffisamment de nourriture ?      & \\\\\n",
       "\t type\\_logement           & 11.01. Type de logement actuel ?                                                 & \\\\\n",
       "\t materiau\\_murs\\_ext       & 11.18. Quel est le principal matériau de construction des murs extérieurs ?      & \\\\\n",
       "\t mateariau\\_sol           & 11.20. Quel est le principal matériau de revêtement du sol du logement?          & \\\\\n",
       "\t source\\_eau\\_saison\\_seche & 11.26a. Prcipale source approvisionnement eau de boisson du MEN saison sèche?    & \\\\\n",
       "\t source\\_eclairage        & 11.37. Quelle est la principale source d'éclairage du logement?                  & \\\\\n",
       "\t reseau\\_tel\\_mobile       & Connecte reseau telephonie mobile                                                & \\\\\n",
       "\t connecte\\_a\\_internet     & 11.45. Le ménage est-il connecté à internet (y compris la clé et le téléphone)?  & \\\\\n",
       "\t hsecteur                & Secteur d'\\&activité du CM                                                        & \\\\\n",
       "\t nb\\_etab\\_fin             & nb etab fin auquel CM affilie                                                    & \\\\\n",
       "\t use\\_bois\\_ramasse        & usage de bois ramasse, combustible                                               & \\\\\n",
       "\t use\\_charbon\\_bois        & usage de charbon de bois, combustible                                            & \\\\\n",
       "\t prise\\_charge\\_medicale   & 3.36.{[}NOM{]} bénéficie d'1e prise charge particulière (Mutuelle, consul. gratui.)? & \\\\\n",
       "\\end{tabular}\n"
      ],
      "text/markdown": [
       "\n",
       "A data.frame: 30 × 3\n",
       "\n",
       "| Variable &lt;chr&gt; | description &lt;chr&gt; | Valeurs &lt;chr&gt; |\n",
       "|---|---|---|\n",
       "| hhid                    | <!----> | <!----> |\n",
       "| zae                     | Zone agroecologique                                                              | <!----> |\n",
       "| region                  | Region residence                                                                 | <!----> |\n",
       "| milieu                  | Milieu residence                                                                 | <!----> |\n",
       "| hhweight                | Ponderation menage                                                               | <!----> |\n",
       "| hhsize                  | Taille menage                                                                    | <!----> |\n",
       "| hgender                 | Genre du CM                                                                      | <!----> |\n",
       "| hage                    | Age du CM                                                                        | <!----> |\n",
       "| hmstat                  | Situation famille du CM                                                          | <!----> |\n",
       "| heduc                   | Education du CM                                                                  | <!----> |\n",
       "| hsectins                | Secteur instit. du CM                                                            | <!----> |\n",
       "| hcsp                    | CSP du CM                                                                        | <!----> |\n",
       "| poor                    | 1 = ménage pauvre (pcexp &lt; zref); 0 = non-pauvre                                 | <!----> |\n",
       "| nb_equip                | <!----> | <!----> |\n",
       "| dep_parfum              | 9D.03. Montant dépensé au cours des 3 derniers mois pour l'achat de produit ?    | <!----> |\n",
       "| dep_chaus               | <!----> | <!----> |\n",
       "| assurance_maladie       | 3.32.  [NOM] est-il couvert par une assurance maladie?                           | <!----> |\n",
       "| insecu_alimentaire      | 8A.01. 12 drnrs mois, inquiets de ne pas avoir suffisamment de nourriture ?      | <!----> |\n",
       "| type_logement           | 11.01. Type de logement actuel ?                                                 | <!----> |\n",
       "| materiau_murs_ext       | 11.18. Quel est le principal matériau de construction des murs extérieurs ?      | <!----> |\n",
       "| mateariau_sol           | 11.20. Quel est le principal matériau de revêtement du sol du logement?          | <!----> |\n",
       "| source_eau_saison_seche | 11.26a. Prcipale source approvisionnement eau de boisson du MEN saison sèche?    | <!----> |\n",
       "| source_eclairage        | 11.37. Quelle est la principale source d'éclairage du logement?                  | <!----> |\n",
       "| reseau_tel_mobile       | Connecte reseau telephonie mobile                                                | <!----> |\n",
       "| connecte_a_internet     | 11.45. Le ménage est-il connecté à internet (y compris la clé et le téléphone)?  | <!----> |\n",
       "| hsecteur                | Secteur d'&amp;activité du CM                                                        | <!----> |\n",
       "| nb_etab_fin             | nb etab fin auquel CM affilie                                                    | <!----> |\n",
       "| use_bois_ramasse        | usage de bois ramasse, combustible                                               | <!----> |\n",
       "| use_charbon_bois        | usage de charbon de bois, combustible                                            | <!----> |\n",
       "| prise_charge_medicale   | 3.36.[NOM] bénéficie d'1e prise charge particulière (Mutuelle, consul. gratui.)? | <!----> |\n",
       "\n"
      ],
      "text/plain": [
       "   Variable               \n",
       "1  hhid                   \n",
       "2  zae                    \n",
       "3  region                 \n",
       "4  milieu                 \n",
       "5  hhweight               \n",
       "6  hhsize                 \n",
       "7  hgender                \n",
       "8  hage                   \n",
       "9  hmstat                 \n",
       "10 heduc                  \n",
       "11 hsectins               \n",
       "12 hcsp                   \n",
       "13 poor                   \n",
       "14 nb_equip               \n",
       "15 dep_parfum             \n",
       "16 dep_chaus              \n",
       "17 assurance_maladie      \n",
       "18 insecu_alimentaire     \n",
       "19 type_logement          \n",
       "20 materiau_murs_ext      \n",
       "21 mateariau_sol          \n",
       "22 source_eau_saison_seche\n",
       "23 source_eclairage       \n",
       "24 reseau_tel_mobile      \n",
       "25 connecte_a_internet    \n",
       "26 hsecteur               \n",
       "27 nb_etab_fin            \n",
       "28 use_bois_ramasse       \n",
       "29 use_charbon_bois       \n",
       "30 prise_charge_medicale  \n",
       "   description                                                                     \n",
       "1                                                                                  \n",
       "2  Zone agroecologique                                                             \n",
       "3  Region residence                                                                \n",
       "4  Milieu residence                                                                \n",
       "5  Ponderation menage                                                              \n",
       "6  Taille menage                                                                   \n",
       "7  Genre du CM                                                                     \n",
       "8  Age du CM                                                                       \n",
       "9  Situation famille du CM                                                         \n",
       "10 Education du CM                                                                 \n",
       "11 Secteur instit. du CM                                                           \n",
       "12 CSP du CM                                                                       \n",
       "13 1 = ménage pauvre (pcexp < zref); 0 = non-pauvre                                \n",
       "14                                                                                 \n",
       "15 9D.03. Montant dépensé au cours des 3 derniers mois pour l'achat de produit ?   \n",
       "16                                                                                 \n",
       "17 3.32.  [NOM] est-il couvert par une assurance maladie?                          \n",
       "18 8A.01. 12 drnrs mois, inquiets de ne pas avoir suffisamment de nourriture ?     \n",
       "19 11.01. Type de logement actuel ?                                                \n",
       "20 11.18. Quel est le principal matériau de construction des murs extérieurs ?     \n",
       "21 11.20. Quel est le principal matériau de revêtement du sol du logement?         \n",
       "22 11.26a. Prcipale source approvisionnement eau de boisson du MEN saison sèche?   \n",
       "23 11.37. Quelle est la principale source d'éclairage du logement?                 \n",
       "24 Connecte reseau telephonie mobile                                               \n",
       "25 11.45. Le ménage est-il connecté à internet (y compris la clé et le téléphone)? \n",
       "26 Secteur d'&activité du CM                                                       \n",
       "27 nb etab fin auquel CM affilie                                                   \n",
       "28 usage de bois ramasse, combustible                                              \n",
       "29 usage de charbon de bois, combustible                                           \n",
       "30 3.36.[NOM] bénéficie d'1e prise charge particulière (Mutuelle, consul. gratui.)?\n",
       "   Valeurs\n",
       "1         \n",
       "2         \n",
       "3         \n",
       "4         \n",
       "5         \n",
       "6         \n",
       "7         \n",
       "8         \n",
       "9         \n",
       "10        \n",
       "11        \n",
       "12        \n",
       "13        \n",
       "14        \n",
       "15        \n",
       "16        \n",
       "17        \n",
       "18        \n",
       "19        \n",
       "20        \n",
       "21        \n",
       "22        \n",
       "23        \n",
       "24        \n",
       "25        \n",
       "26        \n",
       "27        \n",
       "28        \n",
       "29        \n",
       "30        "
      ]
     },
     "metadata": {},
     "output_type": "display_data"
    }
   ],
   "source": [
    "niveau <- c()\n",
    "noms <- c()\n",
    "\n",
    "Variables <- names(Data_MCA) \n",
    "\n",
    "for (i in names(Data_MCA)) {\n",
    "\n",
    "    \n",
    " label <- attr(Data_MCA[[i]], \"label\")\n",
    " noms <- c(noms, ifelse(!is.null(label), label, \"\"))\n",
    "\n",
    " niveau_var <-   attr(Data_MCA[[i]], \"labels\")\n",
    " niveau_var_str <- paste(niveau_var, names(niveau_var), collapse = \" ; \")\n",
    " niveau <- c(niveau, niveau_var_str)            \n",
    "\n",
    "}\n",
    "\n",
    "tableau <- data.frame(\n",
    "  Variable = Variables,\n",
    "  description = noms,\n",
    " Valeurs = niveau,\n",
    "  stringsAsFactors = FALSE\n",
    ")\n",
    "\n",
    "tableau"
   ]
  },
  {
   "cell_type": "code",
   "execution_count": 23,
   "id": "97645aa1-c66e-4852-983f-cd9cff9b3a33",
   "metadata": {},
   "outputs": [
    {
     "data": {
      "text/html": [
       "<table class=\"dataframe\">\n",
       "<caption>A tibble: 6 × 11</caption>\n",
       "<thead>\n",
       "\t<tr><th scope=col>hhid</th><th scope=col>zae</th><th scope=col>region</th><th scope=col>milieu</th><th scope=col>hhweight</th><th scope=col>hhsize</th><th scope=col>hgender</th><th scope=col>hage</th><th scope=col>hmstat</th><th scope=col>heduc</th><th scope=col>hsectins</th></tr>\n",
       "\t<tr><th scope=col>&lt;chr&gt;</th><th scope=col>&lt;fct&gt;</th><th scope=col>&lt;fct&gt;</th><th scope=col>&lt;fct&gt;</th><th scope=col>&lt;dbl&gt;</th><th scope=col>&lt;dbl&gt;</th><th scope=col>&lt;fct&gt;</th><th scope=col>&lt;dbl&gt;</th><th scope=col>&lt;fct&gt;</th><th scope=col>&lt;fct&gt;</th><th scope=col>&lt;fct&gt;</th></tr>\n",
       "</thead>\n",
       "<tbody>\n",
       "\t<tr><td>13506</td><td>Thies-Diourbel-Louga          </td><td>diourbel   </td><td>Urbain</td><td> 98.27486</td><td> 8</td><td>Masculin</td><td>48</td><td>Marié(e) polygame</td><td>Supérieur</td><td>Entreprise Privée</td></tr>\n",
       "\t<tr><td>12709</td><td>Thies-Diourbel-Louga          </td><td>diourbel   </td><td>Urbain</td><td>122.17886</td><td> 4</td><td>Masculin</td><td>48</td><td>Marié(e) polygame</td><td>Aucun    </td><td>Entreprise Privée</td></tr>\n",
       "\t<tr><td>18411</td><td>Saint-Louis-Matam             </td><td>SAINT-LOUIS</td><td>Rural </td><td>288.28547</td><td> 5</td><td>Masculin</td><td>46</td><td>Marié(e) monogame</td><td>Primaire </td><td>Entreprise Privée</td></tr>\n",
       "\t<tr><td>43512</td><td>Ziguinchor-Tamba-Kolda-Sédhiou</td><td>kolda      </td><td>Rural </td><td>243.69882</td><td> 4</td><td>Masculin</td><td>42</td><td>Marié(e) monogame</td><td>Aucun    </td><td>Entreprise Privée</td></tr>\n",
       "\t<tr><td>59802</td><td>Ziguinchor-Tamba-Kolda-Sédhiou</td><td>sedhiou    </td><td>Rural </td><td>225.46186</td><td> 4</td><td>Féminin </td><td>58</td><td>Veuf(ve)         </td><td>Aucun    </td><td>NA               </td></tr>\n",
       "\t<tr><td>54001</td><td>Kédougou                      </td><td>kedougou   </td><td>Urbain</td><td> 24.66065</td><td>12</td><td>Féminin </td><td>75</td><td>Veuf(ve)         </td><td>Aucun    </td><td>Entreprise Privée</td></tr>\n",
       "</tbody>\n",
       "</table>\n"
      ],
      "text/latex": [
       "A tibble: 6 × 11\n",
       "\\begin{tabular}{lllllllllll}\n",
       " hhid & zae & region & milieu & hhweight & hhsize & hgender & hage & hmstat & heduc & hsectins\\\\\n",
       " <chr> & <fct> & <fct> & <fct> & <dbl> & <dbl> & <fct> & <dbl> & <fct> & <fct> & <fct>\\\\\n",
       "\\hline\n",
       "\t 13506 & Thies-Diourbel-Louga           & diourbel    & Urbain &  98.27486 &  8 & Masculin & 48 & Marié(e) polygame & Supérieur & Entreprise Privée\\\\\n",
       "\t 12709 & Thies-Diourbel-Louga           & diourbel    & Urbain & 122.17886 &  4 & Masculin & 48 & Marié(e) polygame & Aucun     & Entreprise Privée\\\\\n",
       "\t 18411 & Saint-Louis-Matam              & SAINT-LOUIS & Rural  & 288.28547 &  5 & Masculin & 46 & Marié(e) monogame & Primaire  & Entreprise Privée\\\\\n",
       "\t 43512 & Ziguinchor-Tamba-Kolda-Sédhiou & kolda       & Rural  & 243.69882 &  4 & Masculin & 42 & Marié(e) monogame & Aucun     & Entreprise Privée\\\\\n",
       "\t 59802 & Ziguinchor-Tamba-Kolda-Sédhiou & sedhiou     & Rural  & 225.46186 &  4 & Féminin  & 58 & Veuf(ve)          & Aucun     & NA               \\\\\n",
       "\t 54001 & Kédougou                       & kedougou    & Urbain &  24.66065 & 12 & Féminin  & 75 & Veuf(ve)          & Aucun     & Entreprise Privée\\\\\n",
       "\\end{tabular}\n"
      ],
      "text/markdown": [
       "\n",
       "A tibble: 6 × 11\n",
       "\n",
       "| hhid &lt;chr&gt; | zae &lt;fct&gt; | region &lt;fct&gt; | milieu &lt;fct&gt; | hhweight &lt;dbl&gt; | hhsize &lt;dbl&gt; | hgender &lt;fct&gt; | hage &lt;dbl&gt; | hmstat &lt;fct&gt; | heduc &lt;fct&gt; | hsectins &lt;fct&gt; |\n",
       "|---|---|---|---|---|---|---|---|---|---|---|\n",
       "| 13506 | Thies-Diourbel-Louga           | diourbel    | Urbain |  98.27486 |  8 | Masculin | 48 | Marié(e) polygame | Supérieur | Entreprise Privée |\n",
       "| 12709 | Thies-Diourbel-Louga           | diourbel    | Urbain | 122.17886 |  4 | Masculin | 48 | Marié(e) polygame | Aucun     | Entreprise Privée |\n",
       "| 18411 | Saint-Louis-Matam              | SAINT-LOUIS | Rural  | 288.28547 |  5 | Masculin | 46 | Marié(e) monogame | Primaire  | Entreprise Privée |\n",
       "| 43512 | Ziguinchor-Tamba-Kolda-Sédhiou | kolda       | Rural  | 243.69882 |  4 | Masculin | 42 | Marié(e) monogame | Aucun     | Entreprise Privée |\n",
       "| 59802 | Ziguinchor-Tamba-Kolda-Sédhiou | sedhiou     | Rural  | 225.46186 |  4 | Féminin  | 58 | Veuf(ve)          | Aucun     | NA                |\n",
       "| 54001 | Kédougou                       | kedougou    | Urbain |  24.66065 | 12 | Féminin  | 75 | Veuf(ve)          | Aucun     | Entreprise Privée |\n",
       "\n"
      ],
      "text/plain": [
       "  hhid  zae                            region      milieu hhweight  hhsize\n",
       "1 13506 Thies-Diourbel-Louga           diourbel    Urbain  98.27486  8    \n",
       "2 12709 Thies-Diourbel-Louga           diourbel    Urbain 122.17886  4    \n",
       "3 18411 Saint-Louis-Matam              SAINT-LOUIS Rural  288.28547  5    \n",
       "4 43512 Ziguinchor-Tamba-Kolda-Sédhiou kolda       Rural  243.69882  4    \n",
       "5 59802 Ziguinchor-Tamba-Kolda-Sédhiou sedhiou     Rural  225.46186  4    \n",
       "6 54001 Kédougou                       kedougou    Urbain  24.66065 12    \n",
       "  hgender  hage hmstat            heduc     hsectins         \n",
       "1 Masculin 48   Marié(e) polygame Supérieur Entreprise Privée\n",
       "2 Masculin 48   Marié(e) polygame Aucun     Entreprise Privée\n",
       "3 Masculin 46   Marié(e) monogame Primaire  Entreprise Privée\n",
       "4 Masculin 42   Marié(e) monogame Aucun     Entreprise Privée\n",
       "5 Féminin  58   Veuf(ve)          Aucun     NA               \n",
       "6 Féminin  75   Veuf(ve)          Aucun     Entreprise Privée"
      ]
     },
     "metadata": {},
     "output_type": "display_data"
    }
   ],
   "source": [
    "head(Data_MCA[ , 1:11])"
   ]
  },
  {
   "cell_type": "code",
   "execution_count": 24,
   "id": "0822fb5c-2382-43fb-9f65-4ac9adc1c30b",
   "metadata": {},
   "outputs": [],
   "source": [
    "Data_MCA  <- Data_MCA %>% \n",
    "remove_rownames %>% \n",
    "column_to_rownames(var=\"hhid\")"
   ]
  },
  {
   "cell_type": "code",
   "execution_count": 25,
   "id": "8072d84c-fe2d-4e28-8ad5-47f2fb3b1a36",
   "metadata": {},
   "outputs": [
    {
     "data": {
      "text/html": [
       "<style>\n",
       ".list-inline {list-style: none; margin:0; padding: 0}\n",
       ".list-inline>li {display: inline-block}\n",
       ".list-inline>li:not(:last-child)::after {content: \"\\00b7\"; padding: 0 .5ex}\n",
       "</style>\n",
       "<ol class=list-inline><li>7038</li><li>29</li></ol>\n"
      ],
      "text/latex": [
       "\\begin{enumerate*}\n",
       "\\item 7038\n",
       "\\item 29\n",
       "\\end{enumerate*}\n"
      ],
      "text/markdown": [
       "1. 7038\n",
       "2. 29\n",
       "\n",
       "\n"
      ],
      "text/plain": [
       "[1] 7038   29"
      ]
     },
     "metadata": {},
     "output_type": "display_data"
    }
   ],
   "source": [
    "dim(Data_MCA)"
   ]
  },
  {
   "cell_type": "markdown",
   "id": "e5bce54e-423a-4700-9c36-c4700bc986f2",
   "metadata": {},
   "source": [
    "<div style=\"background-color:#87CEFA; padding:15px; border-radius:10px\">\n",
    "    <h5 style=\"color:white; text-align:center; font-size:24px;\"> ACM sur les variables qualitatives </h5>\n",
    "</div>"
   ]
  },
  {
   "cell_type": "markdown",
   "id": "b8820f72-55b0-49c5-9966-665424f83d5f",
   "metadata": {},
   "source": [
    "<h6 style=\"text-align:center; font-size:20px;\"> Choix des variables : Dimension </h6>"
   ]
  },
  {
   "cell_type": "code",
   "execution_count": 26,
   "id": "65e90b01-34b6-4025-b4fa-e262b8563fdb",
   "metadata": {},
   "outputs": [
    {
     "data": {
      "text/html": [
       "<style>\n",
       ".list-inline {list-style: none; margin:0; padding: 0}\n",
       ".list-inline>li {display: inline-block}\n",
       ".list-inline>li:not(:last-child)::after {content: \"\\00b7\"; padding: 0 .5ex}\n",
       "</style>\n",
       "<ol class=list-inline><li>'zae'</li><li>'region'</li><li>'milieu'</li><li>'hhweight'</li><li>'hhsize'</li><li>'hgender'</li><li>'hage'</li><li>'hmstat'</li><li>'heduc'</li><li>'hsectins'</li><li>'hcsp'</li><li>'poor'</li><li>'nb_equip'</li><li>'dep_parfum'</li><li>'dep_chaus'</li><li>'assurance_maladie'</li><li>'insecu_alimentaire'</li><li>'type_logement'</li><li>'materiau_murs_ext'</li><li>'mateariau_sol'</li><li>'source_eau_saison_seche'</li><li>'source_eclairage'</li><li>'reseau_tel_mobile'</li><li>'connecte_a_internet'</li><li>'hsecteur'</li><li>'nb_etab_fin'</li><li>'use_bois_ramasse'</li><li>'use_charbon_bois'</li><li>'prise_charge_medicale'</li></ol>\n"
      ],
      "text/latex": [
       "\\begin{enumerate*}\n",
       "\\item 'zae'\n",
       "\\item 'region'\n",
       "\\item 'milieu'\n",
       "\\item 'hhweight'\n",
       "\\item 'hhsize'\n",
       "\\item 'hgender'\n",
       "\\item 'hage'\n",
       "\\item 'hmstat'\n",
       "\\item 'heduc'\n",
       "\\item 'hsectins'\n",
       "\\item 'hcsp'\n",
       "\\item 'poor'\n",
       "\\item 'nb\\_equip'\n",
       "\\item 'dep\\_parfum'\n",
       "\\item 'dep\\_chaus'\n",
       "\\item 'assurance\\_maladie'\n",
       "\\item 'insecu\\_alimentaire'\n",
       "\\item 'type\\_logement'\n",
       "\\item 'materiau\\_murs\\_ext'\n",
       "\\item 'mateariau\\_sol'\n",
       "\\item 'source\\_eau\\_saison\\_seche'\n",
       "\\item 'source\\_eclairage'\n",
       "\\item 'reseau\\_tel\\_mobile'\n",
       "\\item 'connecte\\_a\\_internet'\n",
       "\\item 'hsecteur'\n",
       "\\item 'nb\\_etab\\_fin'\n",
       "\\item 'use\\_bois\\_ramasse'\n",
       "\\item 'use\\_charbon\\_bois'\n",
       "\\item 'prise\\_charge\\_medicale'\n",
       "\\end{enumerate*}\n"
      ],
      "text/markdown": [
       "1. 'zae'\n",
       "2. 'region'\n",
       "3. 'milieu'\n",
       "4. 'hhweight'\n",
       "5. 'hhsize'\n",
       "6. 'hgender'\n",
       "7. 'hage'\n",
       "8. 'hmstat'\n",
       "9. 'heduc'\n",
       "10. 'hsectins'\n",
       "11. 'hcsp'\n",
       "12. 'poor'\n",
       "13. 'nb_equip'\n",
       "14. 'dep_parfum'\n",
       "15. 'dep_chaus'\n",
       "16. 'assurance_maladie'\n",
       "17. 'insecu_alimentaire'\n",
       "18. 'type_logement'\n",
       "19. 'materiau_murs_ext'\n",
       "20. 'mateariau_sol'\n",
       "21. 'source_eau_saison_seche'\n",
       "22. 'source_eclairage'\n",
       "23. 'reseau_tel_mobile'\n",
       "24. 'connecte_a_internet'\n",
       "25. 'hsecteur'\n",
       "26. 'nb_etab_fin'\n",
       "27. 'use_bois_ramasse'\n",
       "28. 'use_charbon_bois'\n",
       "29. 'prise_charge_medicale'\n",
       "\n",
       "\n"
      ],
      "text/plain": [
       " [1] \"zae\"                     \"region\"                 \n",
       " [3] \"milieu\"                  \"hhweight\"               \n",
       " [5] \"hhsize\"                  \"hgender\"                \n",
       " [7] \"hage\"                    \"hmstat\"                 \n",
       " [9] \"heduc\"                   \"hsectins\"               \n",
       "[11] \"hcsp\"                    \"poor\"                   \n",
       "[13] \"nb_equip\"                \"dep_parfum\"             \n",
       "[15] \"dep_chaus\"               \"assurance_maladie\"      \n",
       "[17] \"insecu_alimentaire\"      \"type_logement\"          \n",
       "[19] \"materiau_murs_ext\"       \"mateariau_sol\"          \n",
       "[21] \"source_eau_saison_seche\" \"source_eclairage\"       \n",
       "[23] \"reseau_tel_mobile\"       \"connecte_a_internet\"    \n",
       "[25] \"hsecteur\"                \"nb_etab_fin\"            \n",
       "[27] \"use_bois_ramasse\"        \"use_charbon_bois\"       \n",
       "[29] \"prise_charge_medicale\"  "
      ]
     },
     "metadata": {},
     "output_type": "display_data"
    }
   ],
   "source": [
    "colnames(Data_MCA)"
   ]
  },
  {
   "cell_type": "code",
   "execution_count": 27,
   "id": "7d5a1539-467c-439b-b2eb-2b7f600fe030",
   "metadata": {},
   "outputs": [],
   "source": [
    "# Sélection des variables qui nous interessent concernant notre dimension\n",
    "\n",
    "Data_MCA_var_quali <- Data_MCA  %>%  dplyr::select(.,hgender, hmstat, milieu, hsecteur )\n",
    "\n",
    "poid <- Data_MCA$hhweight"
   ]
  },
  {
   "cell_type": "markdown",
   "id": "44923b50-64f7-4671-a102-da0c0e9c4407",
   "metadata": {},
   "source": [
    "<h6 style=\"text-align:center; font-size:20px;\"> ACM </h6>"
   ]
  },
  {
   "cell_type": "code",
   "execution_count": 28,
   "id": "83657510-c5eb-4064-9d9a-e746e8f3087a",
   "metadata": {},
   "outputs": [],
   "source": [
    "MCA_result <- MCA(Data_MCA_var_quali, ncp=5, graph = FALSE)"
   ]
  },
  {
   "cell_type": "markdown",
   "id": "3782a751-6173-4697-a21d-aa2d3b8f1c43",
   "metadata": {},
   "source": [
    "<p style=\"text-align:center; font-size:20px; font-style: italic;\"> Analyse des valeurs propres </p>"
   ]
  },
  {
   "cell_type": "code",
   "execution_count": 29,
   "id": "d4a2a538-5aac-4808-b343-4b55888f23f1",
   "metadata": {},
   "outputs": [],
   "source": [
    "eig.value <- MCA_result$eig\n",
    "eig.value = as.data.frame(eig.value)\n",
    "eig.value$dimension = seq.int(from=1, to=11, by=1)\n",
    "\n",
    "#print(eig.value)"
   ]
  },
  {
   "cell_type": "code",
   "execution_count": 30,
   "id": "6008c163-4361-4bd4-961e-ca02de48addf",
   "metadata": {},
   "outputs": [
    {
     "data": {
      "image/png": "[encoded data removed]",
      "text/plain": [
       "plot without title"
      ]
     },
     "metadata": {
      "image/png": {
       "height": 420,
       "width": 420
      }
     },
     "output_type": "display_data"
    }
   ],
   "source": [
    "ggplot(eig.value, aes(x=dimension, y=`percentage of variance`)) +\n",
    "  geom_bar(fill=\"#FFA500\",stat = \"identity\") +\n",
    "  geom_point() +\n",
    "  geom_line() + \n",
    "  scale_x_discrete(breaks=seq.int(from=1, to=10, by=1)) +\n",
    "  ggtitle(\"Diagramme des valeurs propres\") +\n",
    "  xlab(\"Dimensions\") +\n",
    "  ylab(\"Valeurs propres\")"
   ]
  },
  {
   "cell_type": "markdown",
   "id": "be6bba26-4fbc-41b5-bdcb-cfda9c882b30",
   "metadata": {},
   "source": [
    "<p style=\"text-align:center; font-size:20px; font-style: italic;\"> Analyse du nuage de variable </p>"
   ]
  },
  {
   "cell_type": "markdown",
   "id": "d5628c08-1994-4cf8-b040-7834c9ca47f9",
   "metadata": {},
   "source": [
    "<p style=\"font-size:20px; font-style: italic;\"> Nuage des modalités </p>"
   ]
  },
  {
   "cell_type": "code",
   "execution_count": 31,
   "id": "ab1a0e7a-5a4a-47fd-878a-7fd428a88eb6",
   "metadata": {},
   "outputs": [
    {
     "data": {
      "image/png": "[encoded data removed]",
      "text/plain": [
       "plot without title"
      ]
     },
     "metadata": {
      "image/png": {
       "height": 420,
       "width": 420
      }
     },
     "output_type": "display_data"
    }
   ],
   "source": [
    "var <- get_mca_var(MCA_result)\n",
    "\n",
    "# Nuage des modalités\n",
    "fviz_mca_var(MCA_result,repel = TRUE, axes = c(1, 2))"
   ]
  },
  {
   "cell_type": "markdown",
   "id": "1e666bca-f6fa-4487-bac3-d2fcc7e3d9e6",
   "metadata": {},
   "source": [
    "<p style=\"font-size:20px; font-style: italic;\"> Contribution des modalités à la formation des axes </p>"
   ]
  },
  {
   "cell_type": "code",
   "execution_count": 32,
   "id": "1e046382-650f-4193-8152-b7ce4dc84f08",
   "metadata": {},
   "outputs": [
    {
     "data": {
      "image/png": "[encoded data removed]",
      "text/plain": [
       "Plot with title \"\""
      ]
     },
     "metadata": {
      "image/png": {
       "height": 420,
       "width": 420
      }
     },
     "output_type": "display_data"
    },
    {
     "data": {
      "image/png": "[encoded data removed]",
      "text/plain": [
       "plot without title"
      ]
     },
     "metadata": {
      "image/png": {
       "height": 420,
       "width": 420
      }
     },
     "output_type": "display_data"
    },
    {
     "data": {
      "image/png": "[encoded data removed]",
      "text/plain": [
       "plot without title"
      ]
     },
     "metadata": {
      "image/png": {
       "height": 420,
       "width": 420
      }
     },
     "output_type": "display_data"
    }
   ],
   "source": [
    "corrplot(var$contrib[,1:5], is.corr=FALSE)\n",
    "fviz_contrib(MCA_result, choice = \"var\", axes = 1:5)\n",
    "fviz_mca_var(MCA_result, col.var = \"contrib\",\n",
    "             gradient.cols = c(\"#00AFBB\", \"#E7B800\", \"#FC4E07\"),repel = TRUE)"
   ]
  },
  {
   "cell_type": "markdown",
   "id": "500dbe68-6f97-41b2-aecb-a2793ff591fe",
   "metadata": {},
   "source": [
    "<p style=\"font-size:20px; font-style: italic;\"> Qualité de representation des modalités </p>"
   ]
  },
  {
   "cell_type": "code",
   "execution_count": 33,
   "id": "62358da0-8537-466c-a95d-bf6d9bfb7dfc",
   "metadata": {},
   "outputs": [
    {
     "data": {
      "image/png": "[encoded data removed]",
      "text/plain": [
       "Plot with title \"\""
      ]
     },
     "metadata": {
      "image/png": {
       "height": 420,
       "width": 420
      }
     },
     "output_type": "display_data"
    },
    {
     "data": {
      "image/png": "[encoded data removed]",
      "text/plain": [
       "plot without title"
      ]
     },
     "metadata": {
      "image/png": {
       "height": 420,
       "width": 420
      }
     },
     "output_type": "display_data"
    },
    {
     "data": {
      "image/png": "[encoded data removed]",
      "text/plain": [
       "plot without title"
      ]
     },
     "metadata": {
      "image/png": {
       "height": 420,
       "width": 420
      }
     },
     "output_type": "display_data"
    }
   ],
   "source": [
    "corrplot(var$cos2[,1:5], is.corr=FALSE)\n",
    "fviz_cos2(MCA_result, choice = \"var\", axes = 1:5)\n",
    "fviz_mca_var(MCA_result, col.var = \"cos2\", gradient.rows = c(\"#00AFBB\", \"#E7B800\", \"#FC4E07\"),\n",
    "             repel = TRUE)"
   ]
  },
  {
   "cell_type": "markdown",
   "id": "9bc04c6d-e291-40ef-a789-ac2549535b6a",
   "metadata": {},
   "source": [
    "<h6 style=\"text-align:center; font-size:20px;\"> Interprétation </h6>"
   ]
  },
  {
   "cell_type": "markdown",
   "id": "df36b8e7-cce9-4f02-90c5-bc8e2cd5e112",
   "metadata": {},
   "source": [
    "---\n",
    "\n",
    "Le **premier axe** de l’ACM, que nous nommons **« évolution du profil des chefs de ménage au Sénégal »**, oppose deux groupes : d’une part, un profil plutôt *traditionnel* des chefs de ménages, caractérisé par des hommes en couple, vivant en zone rurale et exerçant dans le secteur primaire ou secondaire (valeurs négatives) ; et d’autre part, un profil plus *moderne* des chefs de ménages, représenté par des femmes non en couple, résidant en milieu urbain et actives dans le tertiaire ou sans emploi (valeurs positives). Cet axe rend compte de **17,5 %** de l’inertie totale du nuage.\n",
    "\n",
    "Le **deuxième axe**, qui explique **12,4 %** de l’inertie, distingue principalement les chefs de ménages de sece féminin, vivant en milieu rurale, actives dans le secteur primaire ou inoccupées, des chefs de ménages de sexe masculin vivant en milieu urbain et exerçant dans le sectaire secondaire ou tertiaire. La variable « statut matrimonial » n’a pas été retenue dans la lecture de ce second axe en raison de sa faible contribution dans la construction de ce dernier."
   ]
  },
  {
   "cell_type": "markdown",
   "id": "7b48b04a-81a4-411d-8b02-bdaf65e4f5c8",
   "metadata": {},
   "source": [
    "<div style=\"background-color:#87CEFA; padding:15px; border-radius:10px\">\n",
    "    <h5 style=\"color:white; text-align:center; font-size:24px;\"> AFD </h5>\n",
    "</div>"
   ]
  },
  {
   "cell_type": "markdown",
   "id": "ffadc59a-e106-4668-8893-0baebc3e1a13",
   "metadata": {},
   "source": [
    "<h6 style=\"text-align:center; font-size:20px;\"> Sélection des variables </h6>"
   ]
  },
  {
   "cell_type": "code",
   "execution_count": 34,
   "id": "ca154909-a917-4a02-8f8d-b379903c6ac6",
   "metadata": {},
   "outputs": [],
   "source": [
    "Var_quanti_AFD <- Data_MCA %>% \n",
    "dplyr::select(hhsize, hage, nb_equip, nb_etab_fin, dep_parfum, dep_chaus, poor)"
   ]
  },
  {
   "cell_type": "code",
   "execution_count": 35,
   "id": "0a615f50-8725-4f40-8168-3d8a5680469d",
   "metadata": {},
   "outputs": [],
   "source": [
    "coord_ind <- MCA_result$ind$coord\n",
    "selected_axes <- coord_ind[, c(1, 2)]\n",
    "colnames(selected_axes) <- c(\"Axe1\", \"Axe2\")\n",
    "\n",
    "# Ajout à la base initiale\n",
    "Var_quanti_AFD <- cbind(Var_quanti_AFD, selected_axes)"
   ]
  },
  {
   "cell_type": "code",
   "execution_count": 36,
   "id": "dbbb8cf2-e8df-44b5-9091-fdc2ed946f27",
   "metadata": {},
   "outputs": [
    {
     "data": {
      "text/html": [
       "<style>\n",
       ".list-inline {list-style: none; margin:0; padding: 0}\n",
       ".list-inline>li {display: inline-block}\n",
       ".list-inline>li:not(:last-child)::after {content: \"\\00b7\"; padding: 0 .5ex}\n",
       "</style>\n",
       "<ol class=list-inline><li>'hhsize'</li><li>'hage'</li><li>'nb_equip'</li><li>'nb_etab_fin'</li><li>'dep_parfum'</li><li>'dep_chaus'</li><li>'poor'</li><li>'Axe1'</li><li>'Axe2'</li></ol>\n"
      ],
      "text/latex": [
       "\\begin{enumerate*}\n",
       "\\item 'hhsize'\n",
       "\\item 'hage'\n",
       "\\item 'nb\\_equip'\n",
       "\\item 'nb\\_etab\\_fin'\n",
       "\\item 'dep\\_parfum'\n",
       "\\item 'dep\\_chaus'\n",
       "\\item 'poor'\n",
       "\\item 'Axe1'\n",
       "\\item 'Axe2'\n",
       "\\end{enumerate*}\n"
      ],
      "text/markdown": [
       "1. 'hhsize'\n",
       "2. 'hage'\n",
       "3. 'nb_equip'\n",
       "4. 'nb_etab_fin'\n",
       "5. 'dep_parfum'\n",
       "6. 'dep_chaus'\n",
       "7. 'poor'\n",
       "8. 'Axe1'\n",
       "9. 'Axe2'\n",
       "\n",
       "\n"
      ],
      "text/plain": [
       "[1] \"hhsize\"      \"hage\"        \"nb_equip\"    \"nb_etab_fin\" \"dep_parfum\" \n",
       "[6] \"dep_chaus\"   \"poor\"        \"Axe1\"        \"Axe2\"       "
      ]
     },
     "metadata": {},
     "output_type": "display_data"
    }
   ],
   "source": [
    "names(Var_quanti_AFD)"
   ]
  },
  {
   "cell_type": "markdown",
   "id": "aa16f71b-6464-42c4-b55f-84855e170ea5",
   "metadata": {},
   "source": [
    "<h6 style=\"text-align:center; font-size:20px;\"> Choix de l'échantillon </h6>"
   ]
  },
  {
   "cell_type": "code",
   "execution_count": 44,
   "id": "62e1f171-942f-437c-96eb-fcecafc213ae",
   "metadata": {},
   "outputs": [],
   "source": [
    "Var_quanti_AFD[is.na(Var_quanti_AFD)] <- 0"
   ]
  },
  {
   "cell_type": "code",
   "execution_count": 45,
   "id": "29da3248-6168-4c9c-93ab-7512c6e7e6e7",
   "metadata": {},
   "outputs": [],
   "source": [
    "set.seed(0)\n",
    "  samples <- sample(2, nrow(Var_quanti_AFD),\n",
    "                replace = TRUE,\n",
    "                prob = c(0.8, 0.2))\n",
    "  training <- Var_quanti_AFD[samples==1,]\n",
    "  testing <- Var_quanti_AFD[samples==2,]"
   ]
  },
  {
   "cell_type": "markdown",
   "id": "0403d682-2138-483b-994c-46eebed650e0",
   "metadata": {},
   "source": [
    "<h6 style=\"text-align:center; font-size:20px;\"> Analyse discriminate </h6>"
   ]
  },
  {
   "cell_type": "code",
   "execution_count": 46,
   "id": "bcadfba6-a11c-47dd-b89b-46f0db59799b",
   "metadata": {},
   "outputs": [],
   "source": [
    "data_lda <- lda(poor~., training)"
   ]
  },
  {
   "cell_type": "markdown",
   "id": "4c5c8f68-f1bc-4bdb-a109-97153d704942",
   "metadata": {},
   "source": [
    "<p style=\"text-align:center; font-size:20px; font-style: italic;\"> Probabilités à priori du groupe </p>"
   ]
  },
  {
   "cell_type": "code",
   "execution_count": 48,
   "id": "dc4625b8-a1ef-4926-949a-4d8950308365",
   "metadata": {},
   "outputs": [
    {
     "data": {
      "text/html": [
       "<style>\n",
       ".dl-inline {width: auto; margin:0; padding: 0}\n",
       ".dl-inline>dt, .dl-inline>dd {float: none; width: auto; display: inline-block}\n",
       ".dl-inline>dt::after {content: \":\\0020\"; padding-right: .5ex}\n",
       ".dl-inline>dt:not(:first-of-type) {padding-left: .5ex}\n",
       "</style><dl class=dl-inline><dt>Non_pauvre</dt><dd>0.669663729545046</dd><dt>Pauvre</dt><dd>0.330336270454954</dd></dl>\n"
      ],
      "text/latex": [
       "\\begin{description*}\n",
       "\\item[Non\\textbackslash{}\\_pauvre] 0.669663729545046\n",
       "\\item[Pauvre] 0.330336270454954\n",
       "\\end{description*}\n"
      ],
      "text/markdown": [
       "Non_pauvre\n",
       ":   0.669663729545046Pauvre\n",
       ":   0.330336270454954\n",
       "\n"
      ],
      "text/plain": [
       "Non_pauvre     Pauvre \n",
       " 0.6696637  0.3303363 "
      ]
     },
     "metadata": {},
     "output_type": "display_data"
    }
   ],
   "source": [
    "# Proportions des pauvres et non pauvres dans l'ensemble \"d'entraînement\"training\". \n",
    "data_lda[[\"prior\"]]"
   ]
  },
  {
   "cell_type": "markdown",
   "id": "eedfce42-ca85-4903-bbe4-113e93bb9f6e",
   "metadata": {},
   "source": [
    "Il y a **33,03 %** de ménages pauvres et **66,97 %** de ménages non pauvres dans l’échantillon d’entraînement."
   ]
  },
  {
   "cell_type": "code",
   "execution_count": 49,
   "id": "67ead92f-9e98-4ac9-8e80-b73d22d7db68",
   "metadata": {},
   "outputs": [
    {
     "data": {
      "text/html": [
       "<table class=\"dataframe\">\n",
       "<caption>A matrix: 2 × 8 of type dbl</caption>\n",
       "<thead>\n",
       "\t<tr><th></th><th scope=col>hhsize</th><th scope=col>hage</th><th scope=col>nb_equip</th><th scope=col>nb_etab_fin</th><th scope=col>dep_parfum</th><th scope=col>dep_chaus</th><th scope=col>Axe1</th><th scope=col>Axe2</th></tr>\n",
       "</thead>\n",
       "<tbody>\n",
       "\t<tr><th scope=row>Non_pauvre</th><td> 7.375134</td><td>54.39689</td><td>8.636144</td><td>1.1023093</td><td>5037.433</td><td>16545.80</td><td> 0.1198807</td><td> 0.1035684</td></tr>\n",
       "\t<tr><th scope=row>Pauvre</th><td>11.512793</td><td>53.47741</td><td>5.397387</td><td>0.7920523</td><td>1849.036</td><td>11284.99</td><td>-0.2553324</td><td>-0.1929719</td></tr>\n",
       "</tbody>\n",
       "</table>\n"
      ],
      "text/latex": [
       "A matrix: 2 × 8 of type dbl\n",
       "\\begin{tabular}{r|llllllll}\n",
       "  & hhsize & hage & nb\\_equip & nb\\_etab\\_fin & dep\\_parfum & dep\\_chaus & Axe1 & Axe2\\\\\n",
       "\\hline\n",
       "\tNon\\_pauvre &  7.375134 & 54.39689 & 8.636144 & 1.1023093 & 5037.433 & 16545.80 &  0.1198807 &  0.1035684\\\\\n",
       "\tPauvre & 11.512793 & 53.47741 & 5.397387 & 0.7920523 & 1849.036 & 11284.99 & -0.2553324 & -0.1929719\\\\\n",
       "\\end{tabular}\n"
      ],
      "text/markdown": [
       "\n",
       "A matrix: 2 × 8 of type dbl\n",
       "\n",
       "| <!--/--> | hhsize | hage | nb_equip | nb_etab_fin | dep_parfum | dep_chaus | Axe1 | Axe2 |\n",
       "|---|---|---|---|---|---|---|---|---|\n",
       "| Non_pauvre |  7.375134 | 54.39689 | 8.636144 | 1.1023093 | 5037.433 | 16545.80 |  0.1198807 |  0.1035684 |\n",
       "| Pauvre | 11.512793 | 53.47741 | 5.397387 | 0.7920523 | 1849.036 | 11284.99 | -0.2553324 | -0.1929719 |\n",
       "\n"
      ],
      "text/plain": [
       "           hhsize    hage     nb_equip nb_etab_fin dep_parfum dep_chaus\n",
       "Non_pauvre  7.375134 54.39689 8.636144 1.1023093   5037.433   16545.80 \n",
       "Pauvre     11.512793 53.47741 5.397387 0.7920523   1849.036   11284.99 \n",
       "           Axe1       Axe2      \n",
       "Non_pauvre  0.1198807  0.1035684\n",
       "Pauvre     -0.2553324 -0.1929719"
      ]
     },
     "metadata": {},
     "output_type": "display_data"
    }
   ],
   "source": [
    "# Valeurs moyennes de chaque variable pour chaque catégorie.\n",
    "data_lda[[\"means\"]]"
   ]
  },
  {
   "cell_type": "markdown",
   "id": "e825787c-cdb5-4823-a5e8-34c64fd88b5e",
   "metadata": {},
   "source": [
    "Les ménages **pauvres** se caractérisent par une taille moyenne élevée (11,5 membres), peu de types d’équipements (5,4 types en moyenne), des dépenses modestes (environ 1850 F en parfum et 11 285 F en chaussures en moyenne), un chef de ménage âgé en moyenne de 53,5 ans, faiblement bancarisé (ayant souscris à 0,8 établissements financiers en moyenne). Leurs scores négatifs aux axes ACM suggèrent des chefs de ménage en couple, vivant en milieu rural, et actifs dans le secteur primaire ou secondaire, ou inactifs. \n",
    "\n",
    "À l’inverse, les ménages **non pauvres** sont plus petits (7,4 membres), mieux équipés (8,6 types d’équipements), ont des chefs de ménages plus bancarisés (1,1 établissements), et ont des dépenses plus élevées (5037 F en parfum, 16 545 F en chaussures). Leurs scores positifs au axes de l'ACM indiquent des chefs souvent urbains, non en couple, et exerçant dans le secteur secondaire, tertiaire ou étant inactifs."
   ]
  },
  {
   "cell_type": "markdown",
   "id": "89a696bd-468e-44bc-bbe1-1679123f2da3",
   "metadata": {},
   "source": [
    "<p style=\"text-align:center; font-size:20px; font-style: italic;\"> Coefficients discriminants linéaires </p>"
   ]
  },
  {
   "cell_type": "code",
   "execution_count": 50,
   "id": "74f0dd87-f343-4e88-afd0-1df8804d5252",
   "metadata": {},
   "outputs": [
    {
     "data": {
      "text/html": [
       "<table class=\"dataframe\">\n",
       "<caption>A matrix: 8 × 1 of type dbl</caption>\n",
       "<thead>\n",
       "\t<tr><th></th><th scope=col>LD1</th></tr>\n",
       "</thead>\n",
       "<tbody>\n",
       "\t<tr><th scope=row>hhsize</th><td> 1.614546e-01</td></tr>\n",
       "\t<tr><th scope=row>hage</th><td>-6.246790e-03</td></tr>\n",
       "\t<tr><th scope=row>nb_equip</th><td>-1.717587e-01</td></tr>\n",
       "\t<tr><th scope=row>nb_etab_fin</th><td>-1.227905e-01</td></tr>\n",
       "\t<tr><th scope=row>dep_parfum</th><td>-3.142386e-05</td></tr>\n",
       "\t<tr><th scope=row>dep_chaus</th><td>-1.140949e-05</td></tr>\n",
       "\t<tr><th scope=row>Axe1</th><td>-2.800288e-01</td></tr>\n",
       "\t<tr><th scope=row>Axe2</th><td>-2.286866e-01</td></tr>\n",
       "</tbody>\n",
       "</table>\n"
      ],
      "text/latex": [
       "A matrix: 8 × 1 of type dbl\n",
       "\\begin{tabular}{r|l}\n",
       "  & LD1\\\\\n",
       "\\hline\n",
       "\thhsize &  1.614546e-01\\\\\n",
       "\thage & -6.246790e-03\\\\\n",
       "\tnb\\_equip & -1.717587e-01\\\\\n",
       "\tnb\\_etab\\_fin & -1.227905e-01\\\\\n",
       "\tdep\\_parfum & -3.142386e-05\\\\\n",
       "\tdep\\_chaus & -1.140949e-05\\\\\n",
       "\tAxe1 & -2.800288e-01\\\\\n",
       "\tAxe2 & -2.286866e-01\\\\\n",
       "\\end{tabular}\n"
      ],
      "text/markdown": [
       "\n",
       "A matrix: 8 × 1 of type dbl\n",
       "\n",
       "| <!--/--> | LD1 |\n",
       "|---|---|\n",
       "| hhsize |  1.614546e-01 |\n",
       "| hage | -6.246790e-03 |\n",
       "| nb_equip | -1.717587e-01 |\n",
       "| nb_etab_fin | -1.227905e-01 |\n",
       "| dep_parfum | -3.142386e-05 |\n",
       "| dep_chaus | -1.140949e-05 |\n",
       "| Axe1 | -2.800288e-01 |\n",
       "| Axe2 | -2.286866e-01 |\n",
       "\n"
      ],
      "text/plain": [
       "            LD1          \n",
       "hhsize       1.614546e-01\n",
       "hage        -6.246790e-03\n",
       "nb_equip    -1.717587e-01\n",
       "nb_etab_fin -1.227905e-01\n",
       "dep_parfum  -3.142386e-05\n",
       "dep_chaus   -1.140949e-05\n",
       "Axe1        -2.800288e-01\n",
       "Axe2        -2.286866e-01"
      ]
     },
     "metadata": {},
     "output_type": "display_data"
    }
   ],
   "source": [
    "# Combinaison linéaire des variables prédictives utilisée pour former la règle de décision de l'AFD.\n",
    "data_lda[[\"scaling\"]]"
   ]
  },
  {
   "cell_type": "markdown",
   "id": "daaf0152-f0d8-4753-b455-216b390a7cd2",
   "metadata": {},
   "source": [
    "En fonction de leur pouvoir **discriminant**, les variables les plus importantes sont d’abord celles issues de l’ACM (l’axe 1, puis l’axe 2), suivies du nombre de types d’équipements possédés, de la taille du ménage, et du nombre d’établissements financiers auxquels le chef de ménage a souscrit."
   ]
  },
  {
   "cell_type": "markdown",
   "id": "d2301362-74d8-4d75-b546-648c30ca2b55",
   "metadata": {},
   "source": [
    "<p style=\"text-align:center; font-size:20px; font-style: italic;\"> Coordonnées discriminantes ou score des individus </p>"
   ]
  },
  {
   "cell_type": "code",
   "execution_count": 51,
   "id": "3432275c-f80b-439b-b337-17b6ac9eb7fc",
   "metadata": {},
   "outputs": [],
   "source": [
    "# Extraire les coefficients de l'axe LD1 depuis le modèle lda\n",
    "coefs <- as.numeric(data_lda$scaling[, 1])  # colonne LD1\n",
    "vars  <- rownames(data_lda$scaling)         # noms des variables\n",
    "\n",
    "# Vérification : les variables doivent être dans le training\n",
    "vars <- vars[vars %in% names(training)]\n",
    "coefs <- coefs[vars %in% names(training)]\n",
    "\n",
    "# Calcul du score LD1 pour chaque individu\n",
    "training$LD1 <- as.matrix(training[, vars]) %*% coefs"
   ]
  },
  {
   "cell_type": "code",
   "execution_count": 52,
   "id": "414dab0a-643a-40bd-a5ab-d26b29ace4e4",
   "metadata": {},
   "outputs": [
    {
     "data": {
      "text/html": [
       "<table class=\"dataframe\">\n",
       "<caption>A data.frame: 2 × 2</caption>\n",
       "<thead>\n",
       "\t<tr><th scope=col>training$poor</th><th scope=col>scores</th></tr>\n",
       "\t<tr><th scope=col>&lt;fct&gt;</th><th scope=col>&lt;dbl&gt;</th></tr>\n",
       "</thead>\n",
       "<tbody>\n",
       "\t<tr><td>Non_pauvre</td><td>-0.5289574</td></tr>\n",
       "\t<tr><td>Pauvre    </td><td> 1.0723120</td></tr>\n",
       "</tbody>\n",
       "</table>\n"
      ],
      "text/latex": [
       "A data.frame: 2 × 2\n",
       "\\begin{tabular}{ll}\n",
       " training\\$poor & scores\\\\\n",
       " <fct> & <dbl>\\\\\n",
       "\\hline\n",
       "\t Non\\_pauvre & -0.5289574\\\\\n",
       "\t Pauvre     &  1.0723120\\\\\n",
       "\\end{tabular}\n"
      ],
      "text/markdown": [
       "\n",
       "A data.frame: 2 × 2\n",
       "\n",
       "| training$poor &lt;fct&gt; | scores &lt;dbl&gt; |\n",
       "|---|---|\n",
       "| Non_pauvre | -0.5289574 |\n",
       "| Pauvre     |  1.0723120 |\n",
       "\n"
      ],
      "text/plain": [
       "  training$poor scores    \n",
       "1 Non_pauvre    -0.5289574\n",
       "2 Pauvre         1.0723120"
      ]
     },
     "metadata": {},
     "output_type": "display_data"
    }
   ],
   "source": [
    "scores <- predict(data_lda, training)$x[,1]   # colonne LD1\n",
    "aggregate(scores ~ training$poor, FUN = mean)"
   ]
  },
  {
   "cell_type": "markdown",
   "id": "1af7461c-6cb6-4aa0-8b1f-6f4a87aa2dbd",
   "metadata": {},
   "source": [
    "Le score des individus pauvres est positif, et celui des individus non pauvres est positifs. Dons plus le score est élévé, plus un individu est pauvre.\n",
    "\n",
    "En outre, les coefficients linéaires trouvés pour chaque variable permettent de conclure qu'une taille de ménage élévé, un nombre d'équipements faible, peu de souscriptions financières aux étblissments financiers pour le chef de ménage et des valeurs négatives aux variables de l'ACM — indiquant un chef de ménage en couple, rural et exerçant dans le secteur primaire, secondaire ou sans emploi — caractérisent un ménage pauvre."
   ]
  },
  {
   "cell_type": "markdown",
   "id": "7bce1f3b-c441-482d-af31-50f253ca218f",
   "metadata": {},
   "source": [
    "<p style=\"text-align:center; font-size:20px; font-style: italic;\"> Quelques representations graphiques </p>"
   ]
  },
  {
   "cell_type": "code",
   "execution_count": 60,
   "id": "e14034df-c8b2-46f3-846a-2f9358ed75d4",
   "metadata": {},
   "outputs": [
    {
     "data": {
      "image/png": "[encoded data removed]",
      "text/plain": [
       "plot without title"
      ]
     },
     "metadata": {
      "image/png": {
       "height": 420,
       "width": 420
      }
     },
     "output_type": "display_data"
    }
   ],
   "source": [
    "ggplot(training, aes(x = LD1, fill = poor)) +\n",
    "        geom_histogram(binwidth = 1, position = \"dodge\") +\n",
    "        labs(title = \"Histogramme suivant la variable pauvreté\", x = \"Valeurs\", y = \"Fréquence\") +\n",
    "        scale_fill_manual(values = c(\"red\", \"blue\", \"green\"))"
   ]
  },
  {
   "cell_type": "markdown",
   "id": "7bf5696d-47ed-4b0e-adc5-855ced7952f1",
   "metadata": {},
   "source": [
    "Cet histogramme des scores LD1 (combinaison des variables discriminantes) selon le statut de pauvreté montre que les non pauvres se concentrent sur des valeurs négatives proches de zéro, tandis que les pauvres sont plutôt situés autour de scores faibles et positifs (rejoignant le résultat précédent). De plus, bien que les distributions se chevauchent partiellement, la séparation reste visible, ce qui indique que le score LD1 parvient à distinguer en partie les deux groupes."
   ]
  },
  {
   "cell_type": "code",
   "execution_count": 61,
   "id": "26c792e2-7447-4ffa-a69a-06794f82ff1e",
   "metadata": {},
   "outputs": [
    {
     "data": {
      "image/png": "[encoded data removed]",
      "text/plain": [
       "plot without title"
      ]
     },
     "metadata": {
      "image/png": {
       "height": 420,
       "width": 420
      }
     },
     "output_type": "display_data"
    }
   ],
   "source": [
    "ggplot(training, aes(x = LD1, color = poor, fill = poor)) +\n",
    "        geom_density(alpha = 0.5) +\n",
    "        labs(title = \"Densité suivant la variable pauvreté\", x = \"Valeurs\", y = \"Densité\") +\n",
    "        scale_color_manual(values = c(\"red\", \"blue\", \"green\")) +\n",
    "        scale_fill_manual(values = c(\"red\", \"blue\", \"green\"))"
   ]
  },
  {
   "cell_type": "markdown",
   "id": "d0d4bbc6-1a14-4b45-b7c0-bcdcbca070c8",
   "metadata": {},
   "source": [
    "Ce graphique présente les courbes de densité des scores LD1 selon le statut de pauvreté. Les non pauvres sont concentrés autour de valeurs négatives (entre -1 et -0,5), tandis que les pauvres se situent plutôt entre 0 et 1. Bien que les courbes se chevauchent partiellement, elles restent distinctes, illustrant une bonne capacité du modèle à différencier les deux groupes."
   ]
  },
  {
   "cell_type": "markdown",
   "id": "4a4ca103-b452-459a-bc75-339e4814bfeb",
   "metadata": {},
   "source": [
    "<h6 style=\"text-align:center; font-size:20px;\"> Prédiction à partir de l'échantillon test </h6>"
   ]
  },
  {
   "cell_type": "code",
   "execution_count": 56,
   "id": "7cd7ab64-e046-4e66-9146-b65b675cd722",
   "metadata": {},
   "outputs": [],
   "source": [
    "predicted <- predict(data_lda,testing)"
   ]
  },
  {
   "cell_type": "code",
   "execution_count": 57,
   "id": "604fab3f-57f0-4c1f-ad2c-5dbdd33b18c9",
   "metadata": {},
   "outputs": [],
   "source": [
    "# Cette fonction renvoie une liste avec trois variables.\n",
    "      # class : La catégorie prédite (ou le diagnostique)\n",
    "      # posterior : La probabilité a posteriori qu'une observation appartienne à chaque classe\n",
    "      # x : Les scores des individus sur lesquels le test est fait\n",
    "      classement <- data.frame(predicted$class)\n",
    "      score <- predicted$x\n",
    "      affectation <- cbind(testing, score, classement)"
   ]
  },
  {
   "cell_type": "markdown",
   "id": "f1036152-0deb-49f7-9ac4-67eefebe8ffe",
   "metadata": {},
   "source": [
    "<p style=\"text-align:center; font-size:20px; font-style: italic;\"> Matrice de confusion et qualité de l'affection </p>"
   ]
  },
  {
   "cell_type": "code",
   "execution_count": 58,
   "id": "6e812d5c-ada1-485a-b11e-bf09f37af05d",
   "metadata": {},
   "outputs": [
    {
     "name": "stdout",
     "output_type": "stream",
     "text": [
      "            Predicted\n",
      "Actual       Non_pauvre Pauvre\n",
      "  Non_pauvre        863    113\n",
      "  Pauvre            179    322\n"
     ]
    }
   ],
   "source": [
    "vect <- predict(data_lda, testing)$class\n",
    "quality <- table(Actual = testing$poor, Predicted = vect)\n",
    "print(quality)"
   ]
  },
  {
   "cell_type": "markdown",
   "id": "5b3ceea9-1b13-409c-b54b-b20e1a99c871",
   "metadata": {},
   "source": [
    "Sur les **976 ménages réellement non pauvres**, **<span style=\"color: green;\">863</span>** ont été correctement prédits, et **<span style=\"color: red;\"> 113</span>** ont été classés à tort comme pauvres. \n",
    "\n",
    "Parmi les **501 ménages réellement pauvres**, **<span style=\"color: green;\">332</span>** ont été bien identifiés, tandis que **<span style=\"color: red;\"> 179</span>** ont été mal classés."
   ]
  },
  {
   "cell_type": "markdown",
   "id": "15602a46-043c-4470-9d9b-09d521d648da",
   "metadata": {},
   "source": [
    "<p style=\"text-align:center; font-size:20px; font-style: italic;\"> Pourcentage de prédictibilité </p>"
   ]
  },
  {
   "cell_type": "code",
   "execution_count": 59,
   "id": "38143d52-5542-4b76-a1a1-e94a8e97c891",
   "metadata": {},
   "outputs": [
    {
     "data": {
      "text/html": [
       "80.2301963439404"
      ],
      "text/latex": [
       "80.2301963439404"
      ],
      "text/markdown": [
       "80.2301963439404"
      ],
      "text/plain": [
       "[1] 80.2302"
      ]
     },
     "metadata": {},
     "output_type": "display_data"
    }
   ],
   "source": [
    "sum(diag(quality))/sum(quality)*100"
   ]
  },
  {
   "cell_type": "markdown",
   "id": "3b7186b2-5675-4916-a019-4a51d0eb93d7",
   "metadata": {},
   "source": [
    "Le taux de prédiction correcte (ou *taux de précision globale*) est d’environ **80,23 %**, révélant une assez bonne capacité de discrimination du modèle."
   ]
  },
  {
   "cell_type": "markdown",
   "id": "ca643d21-854f-4e17-9b36-4821063ed4a6",
   "metadata": {},
   "source": [
    "<h6 style=\"text-align:center; font-size:20px;\"> Interprétation </h6>"
   ]
  },
  {
   "cell_type": "markdown",
   "id": "e09a194f-67e2-45e7-8b82-b6a8ed55aa49",
   "metadata": {},
   "source": [
    "---\n",
    "\n",
    "Avec une précision de **80,23 %**, l’*Analyse Factorielle Discriminante* réalisée permet d’identifier les ménages pauvres au Sénégal en 2022 comme étant en moyenne plus nombreux, moins équipés, dirigés par un chef de ménage vivant en couple, peu inséré dans le système financier, résidant en zone rurale et exerçant dans le secteur primaire, secondaire ou étant sans emploi."
   ]
  }
 ],
 "metadata": {
  "kernelspec": {
   "display_name": "R",
   "language": "R",
   "name": "ir"
  },
  "language_info": {
   "codemirror_mode": "r",
   "file_extension": ".r",
   "mimetype": "text/x-r-source",
   "name": "R",
   "pygments_lexer": "r",
   "version": "4.5.1"
  }
 },
 "nbformat": 4,
 "nbformat_minor": 5
}
